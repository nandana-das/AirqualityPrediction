{
  "cells": [
    {
      "cell_type": "markdown",
      "metadata": {},
      "source": [
        "# Ant Colony Optimization (ACO) Development for Air Quality Prediction\n",
        "\n",
        "This notebook implements and tests the ACO feature selection algorithm for air quality prediction.\n",
        "\n",
        "## Objectives\n",
        "1. Test ACO implementation on transformed AQI data\n",
        "2. Optimize ACO parameters for best performance\n",
        "3. Compare ACO+DT with Random Forest baseline\n",
        "4. Analyze feature selection patterns and policy relevance\n",
        "5. Generate convergence plots and performance visualizations\n"
      ]
    },
    {
      "cell_type": "code",
      "execution_count": null,
      "metadata": {},
      "outputs": [],
      "source": [
        "# Import required libraries\n",
        "import pandas as pd\n",
        "import numpy as np\n",
        "import matplotlib.pyplot as plt\n",
        "import seaborn as sns\n",
        "from sklearn.tree import DecisionTreeRegressor\n",
        "from sklearn.ensemble import RandomForestRegressor\n",
        "from sklearn.model_selection import train_test_split\n",
        "from sklearn.metrics import mean_squared_error, mean_absolute_error, r2_score\n",
        "import warnings\n",
        "import os\n",
        "import sys\n",
        "\n",
        "# Add src directory to path\n",
        "import os\n",
        "src_path = os.path.abspath('../src')\n",
        "if src_path not in sys.path:\n",
        "    sys.path.insert(0, src_path)\n",
        "\n",
        "# Import ACO optimizer\n",
        "try:\n",
        "    from aco_optimizer import ACO_FeatureSelection\n",
        "    print(\"ACO optimizer imported successfully\")\n",
        "except ImportError as e:\n",
        "    print(f\"Import error: {e}\")\n",
        "    print(f\"Looking for aco_optimizer.py in: {src_path}\")\n",
        "    print(f\"Files in src directory: {os.listdir(src_path) if os.path.exists(src_path) else 'Directory not found'}\")\n",
        "\n",
        "# Configure plotting\n",
        "plt.style.use('seaborn-v0_8')\n",
        "sns.set_palette(\"husl\")\n",
        "warnings.filterwarnings('ignore')\n",
        "\n",
        "print(\"ACO development libraries imported successfully\")\n"
      ]
    }
  ],
  "metadata": {
    "kernelspec": {
      "display_name": "PredictiveAnalysis",
      "language": "python",
      "name": "python3"
    },
    "language_info": {
      "name": "python",
      "version": "3.13.7"
    }
  },
  "nbformat": 4,
  "nbformat_minor": 2
}
